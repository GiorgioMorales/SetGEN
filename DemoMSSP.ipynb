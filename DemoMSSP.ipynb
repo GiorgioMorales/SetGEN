{
 "cells": [
  {
   "cell_type": "markdown",
   "source": [
    "# MSSP: Multi-Set Symbolic Skeleton Prediction for Symbolic Regression\n",
    "\n",
    "## Example using pre-determined datasets\n",
    "\n",
    "In this example, we will predict the symbolic skeletons corresponding to each variable of a system whose underlying equation is one of the following:\n",
    "\n",
    "<br>\n",
    "\n",
    "| Eq. | Underlying equation                                                                     |\n",
    "|-----|-----------------------------------------------------------------------------------------|\n",
    "| E1  | $ (3.0375 x_1 x_2 + 5.5 \\sin (9/4 (x_1 - 2/3)(x_2 - 2/3)))/5 $                          |\n",
    "| E2  | $ 5.5 + (1- x_1/4) ^ 2 + \\sqrt{x_2 + 10} \\sin( x_3/5)$                                  |\n",
    "| E3  | $(1.5 e^{1.5  x_1} + 5 \\cos(3 x_2)) / 10$                                               |\n",
    "| E4  | $((1- x_1)^2 + (1- x_3) ^ 2 + 100 (x_2 - x_1 ^ 2) ^ 2 + 100 (x_4 - x_3 ^ 2) ^ 2)/10000$ |\n",
    "| E5  | $\\sin(x_1 + x_2 x_3) + \\exp{(1.2  x_4)}$                                                |\n",
    "| E6  | $\\tanh(x_1 / 2) + \\text{abs}(x_2) \\cos(x_3^2/5)$                                        |\n",
    "| E7  | $(1 - x_2^2) / (\\sin(2 \\pi \\, x_1) + 1.5)$                                              |\n",
    "| E8  | $x_1^4 / (x_1^4 + 1) + x_2^4 / (x_2^4 + 1)$                                             |\n",
    "| E9  | $\\log(2 x_2 + 1) - \\log(4 x_1 ^ 2 + 1)$                                                 |\n",
    "| E10 | $\\sin(x_1 \\, e^{x_2})$                                                                  |\n",
    "| E11 | $x_1 \\, \\log(x_2 ^ 4)$                                                                  |\n",
    "| E12 | $1 + x_1 \\, \\sin(1 / x_2)$                                                              |\n",
    "| E13 | $\\sqrt{x_1}\\, \\log(x_2 ^ 2)$                                                            |"
   ],
   "metadata": {
    "collapsed": false
   }
  },
  {
   "cell_type": "code",
   "execution_count": 1,
   "outputs": [],
   "source": [
    "from src.EquationLearning.SymbolicRegressor.MSSP import *\n",
    "\n",
    "datasetName = 'E6'\n",
    "data_loader = DataLoader(name=datasetName)\n",
    "data = data_loader.dataset"
   ],
   "metadata": {
    "collapsed": false
   }
  },
  {
   "cell_type": "markdown",
   "source": [
    "**Define NN and load weights**\n",
    "\n",
    "For this example, we have already trained a feedforward neural network on the generated dataset so we only load their corresponding weights."
   ],
   "metadata": {
    "collapsed": false
   }
  },
  {
   "cell_type": "code",
   "execution_count": 2,
   "outputs": [],
   "source": [
    "device = torch.device(\"cuda:0\" if torch.cuda.is_available() else \"cpu\")\n",
    "root = get_project_root()\n",
    "folder = os.path.join(root, \"src//EquationLearning//models//saved_NNs//\" + datasetName)\n",
    "filepath = folder + \"//weights-NN-\" + datasetName\n",
    "nn_model = NNModel(device=device, n_features=data.n_features, NNtype=data_loader.modelType)\n",
    "nn_model.loadModel(filepath)"
   ],
   "metadata": {
    "collapsed": false
   }
  },
  {
   "cell_type": "markdown",
   "source": [
    "**Get Skeletons**\n",
    "\n",
    "The following method will generate some candidate symbolic skeletons and select the most appropriate for each variable"
   ],
   "metadata": {
    "collapsed": false
   }
  },
  {
   "cell_type": "code",
   "execution_count": 3,
   "outputs": [
    {
     "name": "stdout",
     "output_type": "stream",
     "text": [
      "********************************\n",
      "Analyzing variable x0\n",
      "********************************\n",
      "Predicted skeleton 1 for variable x0: c + tanh(c*x0 + c)\n",
      "Predicted skeleton 2 for variable x0: c*tanh(c*x0 + c) + c\n",
      "Predicted skeleton 3 for variable x0: c*tanh(c*x0) + c\n",
      "Predicted skeleton 4 for variable x0: c + tanh(c*x0)\n",
      "Predicted skeleton 5 for variable x0: c + tanh(c*x0 + tanh(c*x0))\n",
      "\n",
      " Choosing the best skeleton... (skeletons ordered based on number of nodes)\n",
      "\tSkeleton: c + tanh(c*x0). Error: 0.024566225686204837. Expr: tanh(0.49739*x0) + 1.858887\n",
      "\tSkeleton: c + tanh(c*x0 + c). Error: 0.023708092577058096. Expr: tanh(0.498284*x0 + 0.027905) + 1.852811\n",
      "\tSkeleton: c*tanh(c*x0) + c. Error: 0.01770007270658095. Expr: 0.970921*tanh(0.534572*x0) + 1.847573\n",
      "\tSkeleton: c*tanh(c*x0 + c) + c. Error: 0.01590859225526044. Expr: 0.968852*tanh(0.527581*x0 + 0.055927) + 1.836502\n",
      "\tSkeleton: c + tanh(c*x0 + tanh(c*x0)). Error: 0.024235270129471197. Expr: tanh(0.31425*x0 + tanh(0.19587*x0)) + 1.858883\n",
      "Selected skeleton: c*tanh(c*x0) + c\n",
      "\n",
      "********************************\n",
      "Analyzing variable x1\n",
      "********************************\n",
      "Predicted skeleton 1 for variable x1: c*Abs(x1) + c\n",
      "Predicted skeleton 2 for variable x1: c*Abs(c*x1 + c) + c\n",
      "Predicted skeleton 3 for variable x1: c*x1*tanh(c*x1) + c\n",
      "Predicted skeleton 4 for variable x1: c*x1/tanh(c*x1) + c\n",
      "Predicted skeleton 5 for variable x1: c*x1 + c*Abs(x1) + c\n",
      "\n",
      " Choosing the best skeleton... (skeletons ordered based on number of nodes)\n",
      "\tSkeleton: c*Abs(x1) + c. Error: 0.03276813688310861. Expr: 0.962722*Abs(x1) + 0.983324\n",
      "\tSkeleton: c*x1*tanh(c*x1) + c. Error: 0.03621436427182202. Expr: 0.950271*x1*tanh(1.719136*x1) + 1.050031\n",
      "\tSkeleton: c*x1 + c*Abs(x1) + c. Error: 0.03592658816345802. Expr: -0.000955*x1 + 0.967872*Abs(x1) + 0.959596\n",
      "\tSkeleton: c*Abs(c*x1 + c) + c. Error: 0.032547039378001824. Expr: 0.058654*Abs(16.386301*x1 - 0.000856) + 0.990861\n",
      "\tSkeleton: c*x1/tanh(c*x1) + c. Error: 0.032594371439325594. Expr: 0.964403*x1/tanh(8.154577*x1) + 0.971258\n",
      "Selected skeleton: c*Abs(x1) + c\n",
      "\n",
      "********************************\n",
      "Analyzing variable x2\n",
      "********************************\n",
      "Predicted skeleton 1 for variable x2: c*cos(c*x2 + c) + c\n",
      "Predicted skeleton 2 for variable x2: c*sin(c*x2 + c) + c\n",
      "Predicted skeleton 3 for variable x2: c + cos(c*(c + x2)**2)\n",
      "Predicted skeleton 4 for variable x2: c*cos(c*(c + x2)**2) + c\n",
      "Predicted skeleton 5 for variable x2: c*cos(c*sqrt(c*x2 + c)) + c\n",
      "\n",
      " Choosing the best skeleton... (skeletons ordered based on number of nodes)\n",
      "\tSkeleton: c*cos(c*x2 + c) + c. Error: 2.0335581808943863. Expr: 3.127037*cos(0.564305*x2 + 6.283185) + 2.074066\n",
      "\tSkeleton: c*sin(c*x2 + c) + c. Error: 2.0335082225590524. Expr: 2.107823 - 3.106038*sin(0.563907*x2 - 1.557352)\n",
      "\tSkeleton: c + cos(c*x2**2 + c*x2 + c). Error: 1.9880175501992563. Expr: cos(0.199139*x2**2 - 6.271409) + 2.076623\n",
      "\tSkeleton: c*cos(c*x2**2 + c*x2 + c) + c. Error: 0.25692246601809876. Expr: 3.864167*cos(-0.197544*x2**2 + 0.005515*x2 + 6.127775) + 1.203738\n",
      "\tSkeleton: c*cos(c*sqrt(c*x2 + c)) + c. Error: 1.978052765103747. Expr: 2.191686 - 3.071875*cos(15.6225496664169*sqrt(0.0947106649412442*x2 + 1))\n",
      "Selected skeleton: c*cos(c*x2**2 + c*x2 + c) + c\n",
      "\n"
     ]
    },
    {
     "data": {
      "text/plain": "[c*tanh(c*x0) + c, c*Abs(x1) + c, c*cos(c*x2**2 + c*x2 + c) + c]"
     },
     "execution_count": 3,
     "metadata": {},
     "output_type": "execute_result"
    }
   ],
   "source": [
    "regressor = MSSP(dataset=data, bb_model=nn_model)\n",
    "regressor.get_skeletons()"
   ],
   "metadata": {
    "collapsed": false
   }
  },
  {
   "cell_type": "markdown",
   "source": [
    "## Example using custom equations\n",
    "\n",
    "Here we will show how to use data generated from your own equations. Alternatively, you can bring your dataset (e.g., a CSV file) and load the matrix $X$ (explainable variables) and $Y$ (response variable).\n",
    "\n",
    "In this example, consider the simple equation $y = \\frac{\\sin(x_1 + 1.2 \\, x_2) \\, x_3^2}{2}$. Suppose that $x_1$ and $x_2$ are continuous variables and $x_3$ is discrete and can take 100 possible values ($x_1 \\in [-5, 5]$, $x_2 \\in [-5, 5]$, and $x_3 \\in [-8, ... , 8]$)"
   ],
   "metadata": {
    "collapsed": false
   }
  },
  {
   "cell_type": "markdown",
   "source": [
    "**Generate and format data**"
   ],
   "metadata": {
    "collapsed": false
   }
  },
  {
   "cell_type": "code",
   "execution_count": 4,
   "outputs": [],
   "source": [
    "np.random.seed(7)\n",
    "n = 10000\n",
    "# Generate data from the equation\n",
    "x1 = np.random.uniform(-5, 5, size=n)\n",
    "x2 = np.random.uniform(-5, 5, size=n)\n",
    "x3 = np.array([np.random.choice(np.linspace(-8, 8, 100)) for _ in range(n)])  # Example of discrete variable\n",
    "X = np.array([x1, x2, x3]).T\n",
    "Y = np.sin(x1 + 1.2 * x2) * (x3**2 / 2)  # Or load matrices X and Y from a CSV file\n",
    "\n",
    "# Format the dataset\n",
    "names = ['x0', 'x1']  # Specify the names of the variables\n",
    "types = ['continuous', 'continuous', 'discrete']  # Specify if the variables are continuous or discrete\n",
    "dataset = InputData(X=X, Y=Y, names=names, types=types)"
   ],
   "metadata": {
    "collapsed": false
   }
  },
  {
   "cell_type": "markdown",
   "source": [
    "**Train a NN**\n",
    "\n",
    "Unlike the previous example, we haven't trained a NN for this problem so let's train it now. If you're not satisfied with the validation MSE, you can try increasing the number of epochs or try a different architecture. By default, we use the `modelType='NN'`; if you need less complexity, try `modelType='NN2'`; or if you need more complexity, try `modelType='NN3'`."
   ],
   "metadata": {
    "collapsed": false
   }
  },
  {
   "cell_type": "code",
   "execution_count": 5,
   "outputs": [
    {
     "name": "stdout",
     "output_type": "stream",
     "text": [
      "*****************************************\n",
      "Start MLP training\n",
      "*****************************************\n"
     ]
    },
    {
     "name": "stderr",
     "output_type": "stream",
     "text": [
      "100%|██████████| 3000/3000 [12:51<00:00,  3.89it/s]"
     ]
    },
    {
     "name": "stdout",
     "output_type": "stream",
     "text": [
      "Val MSE: 0.0337617389091763\n"
     ]
    },
    {
     "name": "stderr",
     "output_type": "stream",
     "text": [
      "\n"
     ]
    }
   ],
   "source": [
    "from src.EquationLearning.Trainer.TrainNNmodel import Trainer\n",
    "\n",
    "predictor = Trainer(dataset=dataset, modelType='NN')\n",
    "predictor.train(batch_size=128, epochs=3000, printProcess=False)\n",
    "# Save the model\n",
    "# predictor.model.saveModel(path)  # Specify your own path"
   ],
   "metadata": {
    "collapsed": false
   }
  },
  {
   "cell_type": "markdown",
   "source": [
    "**Get Skeletons**\n",
    "\n",
    "The following method will generate some candidate symbolic skeletons and select the most appropriate for each variable"
   ],
   "metadata": {
    "collapsed": false
   }
  },
  {
   "cell_type": "code",
   "execution_count": 6,
   "outputs": [
    {
     "name": "stdout",
     "output_type": "stream",
     "text": [
      "********************************\n",
      "Analyzing variable x0\n",
      "********************************\n",
      "Predicted skeleton 1 for variable x0: c*cos(c*x0 + c) + c\n",
      "Predicted skeleton 2 for variable x0: c*sin(c*x0 + c) + c\n",
      "Predicted skeleton 3 for variable x0: c*cos(c + x0) + c\n",
      "Predicted skeleton 4 for variable x0: c*sin(c + x0) + c\n",
      "Predicted skeleton 5 for variable x0: c*cos(c*x0) + c\n",
      "\n",
      " Choosing the best skeleton... (skeletons ordered based on number of nodes)\n",
      "\tSkeleton: c*cos(c + x0) + c. Error: 0.03311028933275936. Expr: 0.000982 - 0.699719*cos(x0 + 3.681936)\n",
      "\tSkeleton: c*sin(c + x0) + c. Error: 0.03319685064806375. Expr: 0.000204 - 0.69743*sin(x0 - 1.028932)\n",
      "\tSkeleton: c*cos(c*x0) + c. Error: 0.24068176879495262. Expr: 0.64674*cos(1.091414*x0) + 0.049026\n",
      "\tSkeleton: c*cos(c*x0 + c) + c. Error: 0.0323477500957828. Expr: 0.000996 - 0.699617*cos(1.004129*x0 + 3.67877)\n",
      "\tSkeleton: c*sin(c*x0 + c) + c. Error: 0.03238449435462717. Expr: 0.701503*sin(1.00486*x0 + 2.106522) + 0.00099\n",
      "Selected skeleton: c*cos(c + x0)\n",
      "\n",
      "********************************\n",
      "Analyzing variable x1\n",
      "********************************\n",
      "Predicted skeleton 1 for variable x1: c*cos(c*x1 + c) + c\n",
      "Predicted skeleton 2 for variable x1: c*sin(c*x1 + c) + c\n",
      "Predicted skeleton 3 for variable x1: c + cos(c*x1 + c)\n",
      "Predicted skeleton 4 for variable x1: c*sin(c*x1) + c\n",
      "Predicted skeleton 5 for variable x1: c*cos(c + x1) + c\n",
      "\n",
      " Choosing the best skeleton... (skeletons ordered based on number of nodes)\n",
      "\tSkeleton: c + cos(c*x1 + c). Error: 12.788019056394884. Expr: cos(1.257971*x1 - 3.259995) + 1.690865\n",
      "\tSkeleton: c*sin(c*x1) + c. Error: 13.222606743344077. Expr: 6.171093*sin(3.98587*x1) + 2.383979\n",
      "\tSkeleton: c*cos(c + x1) + c. Error: 7.180326512606081. Expr: 19.084801*cos(x1 - 3.248819) - 0.591196\n",
      "\tSkeleton: c*cos(c*x1 + c) + c. Error: 0.8671739824419986. Expr: 20.0*cos(1.203385*x1 + 3.022628) + 0.339177\n",
      "\tSkeleton: c*sin(c*x1 + c) + c. Error: 0.8671731232443392. Expr: 20.0*sin(1.203404*x1 + 4.59358) + 0.343024\n",
      "Selected skeleton: c*cos(c*x1 + c) + c\n",
      "\n",
      "********************************\n",
      "Analyzing variable x2\n",
      "********************************\n",
      "Predicted skeleton 1 for variable x2: c*x2**2 + c\n",
      "Predicted skeleton 2 for variable x2: c*(c + x2)**2 + c\n",
      "Predicted skeleton 3 for variable x2: c*cosh(c*x2) + c\n",
      "Predicted skeleton 4 for variable x2: c*x2**2 + c*x2 + c\n",
      "Predicted skeleton 5 for variable x2: c*cosh(c*x2**2) + c\n",
      "\n",
      " Choosing the best skeleton... (skeletons ordered based on number of nodes)\n",
      "\tSkeleton: c*x2**2 + c. Error: 0.07045329102635581. Expr: 0.048599 - 0.380614*x2**2\n",
      "\tSkeleton: c*cosh(c*x2) + c. Error: 0.3452808422116407. Expr: 13.015378 - 13.267374*cosh(0.21833*x2)\n",
      "\tSkeleton: c*x2**2 + c*x2 + c. Error: 0.06287035963500265. Expr: -0.380567*x2**2 - 0.010137*x2 + 0.064867\n",
      "\tSkeleton: c*x2**2 + c*x2 + c. Error: 0.06287035963500265. Expr: -0.380567*x2**2 - 0.010137*x2 + 0.064867\n",
      "\tSkeleton: c*cosh(c*x2**2) + c. Error: 2.1888402259993707. Expr: 10.304689 - 13.311102*cosh(0.028669*x2**2)\n",
      "Selected skeleton: c*x2**2 + c*x2 + c\n",
      "\n"
     ]
    },
    {
     "data": {
      "text/plain": "[c*cos(c + x0), c*cos(c*x1 + c) + c, c*x2**2 + c*x2 + c]"
     },
     "execution_count": 6,
     "metadata": {},
     "output_type": "execute_result"
    }
   ],
   "source": [
    "regressor = MSSP(dataset=dataset, bb_model=predictor.model)\n",
    "regressor.get_skeletons()"
   ],
   "metadata": {
    "collapsed": false
   }
  }
 ],
 "metadata": {
  "kernelspec": {
   "display_name": "Python 3",
   "language": "python",
   "name": "python3"
  },
  "language_info": {
   "codemirror_mode": {
    "name": "ipython",
    "version": 2
   },
   "file_extension": ".py",
   "mimetype": "text/x-python",
   "name": "python",
   "nbconvert_exporter": "python",
   "pygments_lexer": "ipython2",
   "version": "2.7.6"
  }
 },
 "nbformat": 4,
 "nbformat_minor": 0
}
